{
  "nbformat": 4,
  "nbformat_minor": 0,
  "metadata": {
    "colab": {
      "provenance": [],
      "toc_visible": true
    },
    "kernelspec": {
      "name": "python3",
      "display_name": "Python 3"
    },
    "language_info": {
      "name": "python"
    }
  },
  "cells": [
    {
      "cell_type": "code",
      "execution_count": 3,
      "metadata": {
        "id": "AHU-Unw0zqJR",
        "colab": {
          "base_uri": "https://localhost:8080/"
        },
        "outputId": "08e1e30c-77ab-4496-b439-ae97db26f911"
      },
      "outputs": [
        {
          "output_type": "stream",
          "name": "stdout",
          "text": [
            "Enter your first name: good\n",
            "Enter your last name: evening\n",
            "Full name: good evening\n",
            "Every other char in full name: go vnn\n"
          ]
        }
      ],
      "source": [
        "def string_alternative(s):\n",
        "    return s[::2]\n",
        "\n",
        "def main():\n",
        "    first_name = input(\"Enter your first name: \")\n",
        "    last_name = input(\"Enter your last name: \")\n",
        "\n",
        "    full_name = first_name + \" \" + last_name\n",
        "    alternative_chars = string_alternative(full_name)\n",
        "\n",
        "    print(\"Full name:\", full_name)\n",
        "    print(\"Every other char in full name:\", alternative_chars)\n",
        "\n",
        "if __name__ == \"__main__\":\n",
        "    main()"
      ]
    },
    {
      "cell_type": "code",
      "source": [
        "def count_words(line):\n",
        "    words = line.split()\n",
        "    word_count = {}\n",
        "\n",
        "    for word in words:\n",
        "        word = word.strip()\n",
        "        if word:\n",
        "            if word in word_count:\n",
        "                word_count[word] += 1\n",
        "            else:\n",
        "                word_count[word] = 1\n",
        "\n",
        "    return word_count\n",
        "\n",
        "def main():\n",
        "    input_file_path = r\"https://drive.google.com/file/d/1qj4-4DjxrbAFbOuPJQVQJBHABrakzgxS/view?usp=drive_link\"\n",
        "    output_file_path = r\"https://drive.google.com/file/d/1QJaq-WaU5mLLqZ9GJd2hC8aU7PUxrZnt/view?usp=drive_link\"\n",
        "\n",
        "    with open(input_file_path, \"r\") as input_file:\n",
        "        lines = input_file.readlines()\n",
        "\n",
        "    result = {}\n",
        "\n",
        "    with open(output_file_path, \"w\") as output_file:\n",
        "        for line in lines:\n",
        "            line = line.strip()\n",
        "            output_file.write(line + \"\\nWord_Count:\\n\")\n",
        "            word_count = count_words(line)\n",
        "            result[line] = word_count\n",
        "\n",
        "            for word, count in word_count.items():\n",
        "                output_file.write(f\"{word}: {count}\\n\")\n",
        "\n",
        "            output_file.write(\"\\n\")\n",
        "\n",
        "            print(line)\n",
        "            print(\"Word_Count:\")\n",
        "            for word, count in word_count.items():\n",
        "                print(f\"{word}: {count}\")\n",
        "            print()\n",
        "\n",
        "    print(\"Results have been written to\", output_file_path)\n",
        "\n",
        "if __name__ == \"__main__\":\n",
        "    main()"
      ],
      "metadata": {
        "colab": {
          "base_uri": "https://localhost:8080/",
          "height": 331
        },
        "id": "Xm7r5TCxExz8",
        "outputId": "646adcc3-1aff-4f90-ce32-62141af1ad12"
      },
      "execution_count": 1,
      "outputs": [
        {
          "output_type": "error",
          "ename": "FileNotFoundError",
          "evalue": "ignored",
          "traceback": [
            "\u001b[0;31m---------------------------------------------------------------------------\u001b[0m",
            "\u001b[0;31mFileNotFoundError\u001b[0m                         Traceback (most recent call last)",
            "\u001b[0;32m<ipython-input-1-4ee1d58a0936>\u001b[0m in \u001b[0;36m<cell line: 44>\u001b[0;34m()\u001b[0m\n\u001b[1;32m     43\u001b[0m \u001b[0;34m\u001b[0m\u001b[0m\n\u001b[1;32m     44\u001b[0m \u001b[0;32mif\u001b[0m \u001b[0m__name__\u001b[0m \u001b[0;34m==\u001b[0m \u001b[0;34m\"__main__\"\u001b[0m\u001b[0;34m:\u001b[0m\u001b[0;34m\u001b[0m\u001b[0;34m\u001b[0m\u001b[0m\n\u001b[0;32m---> 45\u001b[0;31m     \u001b[0mmain\u001b[0m\u001b[0;34m(\u001b[0m\u001b[0;34m)\u001b[0m\u001b[0;34m\u001b[0m\u001b[0;34m\u001b[0m\u001b[0m\n\u001b[0m",
            "\u001b[0;32m<ipython-input-1-4ee1d58a0936>\u001b[0m in \u001b[0;36mmain\u001b[0;34m()\u001b[0m\n\u001b[1;32m     17\u001b[0m     \u001b[0moutput_file_path\u001b[0m \u001b[0;34m=\u001b[0m \u001b[0;34mr\"https://drive.google.com/file/d/1QJaq-WaU5mLLqZ9GJd2hC8aU7PUxrZnt/view?usp=drive_link\"\u001b[0m\u001b[0;34m\u001b[0m\u001b[0;34m\u001b[0m\u001b[0m\n\u001b[1;32m     18\u001b[0m \u001b[0;34m\u001b[0m\u001b[0m\n\u001b[0;32m---> 19\u001b[0;31m     \u001b[0;32mwith\u001b[0m \u001b[0mopen\u001b[0m\u001b[0;34m(\u001b[0m\u001b[0minput_file_path\u001b[0m\u001b[0;34m,\u001b[0m \u001b[0;34m\"r\"\u001b[0m\u001b[0;34m)\u001b[0m \u001b[0;32mas\u001b[0m \u001b[0minput_file\u001b[0m\u001b[0;34m:\u001b[0m\u001b[0;34m\u001b[0m\u001b[0;34m\u001b[0m\u001b[0m\n\u001b[0m\u001b[1;32m     20\u001b[0m         \u001b[0mlines\u001b[0m \u001b[0;34m=\u001b[0m \u001b[0minput_file\u001b[0m\u001b[0;34m.\u001b[0m\u001b[0mreadlines\u001b[0m\u001b[0;34m(\u001b[0m\u001b[0;34m)\u001b[0m\u001b[0;34m\u001b[0m\u001b[0;34m\u001b[0m\u001b[0m\n\u001b[1;32m     21\u001b[0m \u001b[0;34m\u001b[0m\u001b[0m\n",
            "\u001b[0;31mFileNotFoundError\u001b[0m: [Errno 2] No such file or directory: 'https://drive.google.com/file/d/1qj4-4DjxrbAFbOuPJQVQJBHABrakzgxS/view?usp=drive_link'"
          ]
        }
      ]
    },
    {
      "cell_type": "code",
      "source": [
        "def inches_to_cm(inches):\n",
        "    return inches /2.204\n",
        "\n",
        "def main():\n",
        "    num_customers = int(input(\"Enter the number of customers: \"))\n",
        "    heights_inches = []\n",
        "\n",
        "    for i in range(num_customers):\n",
        "        height = float(input(f\"Enter the height of customer {i + 1} in inches: \"))\n",
        "        heights_inches.append(height)\n",
        "\n",
        "    # Using Nested Interactive Loop\n",
        "    heights_cm_nested = []\n",
        "    for height in heights_inches:\n",
        "        height_cm = inches_to_cm(height)\n",
        "        heights_cm_nested.append(height_cm)\n",
        "\n",
        "    # Using List Comprehensions\n",
        "    heights_cm_comprehension = [inches_to_cm(height) for height in heights_inches]\n",
        "\n",
        "    print(\"Heights in inches:\", heights_inches)\n",
        "    print(\"Heights in centimeters (Nested Loop):\", heights_cm_nested)\n",
        "    print(\"Heights in centimeters (List Comprehension):\", heights_cm_comprehension)\n",
        "\n",
        "if __name__ == \"__main__\":\n",
        "    main()"
      ],
      "metadata": {
        "colab": {
          "base_uri": "https://localhost:8080/"
        },
        "id": "ncuuZZzrFuh9",
        "outputId": "438fdd65-f7ff-4e00-a248-37e7ab8b7d15"
      },
      "execution_count": 3,
      "outputs": [
        {
          "output_type": "stream",
          "name": "stdout",
          "text": [
            "Enter the number of customers: 4\n",
            "Enter the height of customer 1 in inches: 150\n",
            "Enter the height of customer 2 in inches: 155\n",
            "Enter the height of customer 3 in inches: 145\n",
            "Enter the height of customer 4 in inches: 148\n",
            "Heights in inches: [150.0, 155.0, 145.0, 148.0]\n",
            "Heights in centimeters (Nested Loop): [68.05807622504537, 70.32667876588022, 65.78947368421052, 67.15063520871144]\n",
            "Heights in centimeters (List Comprehension): [68.05807622504537, 70.32667876588022, 65.78947368421052, 67.15063520871144]\n"
          ]
        }
      ]
    }
  ]
}